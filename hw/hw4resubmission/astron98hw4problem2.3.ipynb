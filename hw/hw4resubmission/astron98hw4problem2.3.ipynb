{
 "cells": [
  {
   "cell_type": "code",
   "execution_count": 1,
   "id": "2204ba24",
   "metadata": {},
   "outputs": [
    {
     "data": {
      "text/plain": [
       "[1, 3, 5, 7, 9, 20, 21, 23, 25, 27, 29]"
      ]
     },
     "execution_count": 1,
     "metadata": {},
     "output_type": "execute_result"
    }
   ],
   "source": [
    "listA=[]\n",
    "listB=[]\n",
    "for i in range (1, 11):\n",
    "    listA.append(i)\n",
    "for i in range (20, 31):\n",
    "    listB.append(i)\n",
    "def func(lA=[], lB=[]):\n",
    "    lC=lA+lB\n",
    "    for i in lC:\n",
    "        if i%2==0:\n",
    "            lC.remove(i)\n",
    "    return lC\n",
    "func(listA, listB)"
   ]
  },
  {
   "cell_type": "code",
   "execution_count": null,
   "id": "fa661241",
   "metadata": {},
   "outputs": [],
   "source": []
  }
 ],
 "metadata": {
  "kernelspec": {
   "display_name": "Python 3 (ipykernel)",
   "language": "python",
   "name": "python3"
  },
  "language_info": {
   "codemirror_mode": {
    "name": "ipython",
    "version": 3
   },
   "file_extension": ".py",
   "mimetype": "text/x-python",
   "name": "python",
   "nbconvert_exporter": "python",
   "pygments_lexer": "ipython3",
   "version": "3.11.5"
  }
 },
 "nbformat": 4,
 "nbformat_minor": 5
}
