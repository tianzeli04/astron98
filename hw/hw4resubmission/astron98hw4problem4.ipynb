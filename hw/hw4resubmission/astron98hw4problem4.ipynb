{
 "cells": [
  {
   "cell_type": "code",
   "execution_count": 1,
   "id": "d7bccd7c",
   "metadata": {},
   "outputs": [
    {
     "data": {
      "text/plain": [
       "[1, 2, 3, 4]"
      ]
     },
     "execution_count": 1,
     "metadata": {},
     "output_type": "execute_result"
    }
   ],
   "source": [
    "lis = [ 1 , 1 , 2 , 3 , 4 , 4 ]\n",
    "def removeDuplicates(l=[]):\n",
    "    m=[]\n",
    "    for i in l:\n",
    "            if i not in m:\n",
    "                m.append(i)\n",
    "    return m\n",
    "removeDuplicates(lis)"
   ]
  },
  {
   "cell_type": "code",
   "execution_count": null,
   "id": "abbc071d",
   "metadata": {},
   "outputs": [],
   "source": []
  }
 ],
 "metadata": {
  "kernelspec": {
   "display_name": "Python 3 (ipykernel)",
   "language": "python",
   "name": "python3"
  },
  "language_info": {
   "codemirror_mode": {
    "name": "ipython",
    "version": 3
   },
   "file_extension": ".py",
   "mimetype": "text/x-python",
   "name": "python",
   "nbconvert_exporter": "python",
   "pygments_lexer": "ipython3",
   "version": "3.11.5"
  }
 },
 "nbformat": 4,
 "nbformat_minor": 5
}
