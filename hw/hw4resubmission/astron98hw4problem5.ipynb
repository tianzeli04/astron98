{
 "cells": [
  {
   "cell_type": "code",
   "execution_count": 8,
   "id": "06216652",
   "metadata": {},
   "outputs": [
    {
     "data": {
      "text/plain": [
       "\"At first I didn't realize there was a problem 5 since it wasn't in the homework file. \\nSo only now have I understood what I was spposed to do. Unfortunately I've forgotten what errors\\nI ran into, since this homework was a couple weeks ago. However in general I tend to struggle with\\nnumpy arrays (I can never figure out how the .append works), so I look it up on StackExchange and change \\nmy code and re-run the file a couple times, and most of the times it will all work out. The reason I do\\nthat is because I never learned coding formally--I've only ever used it for astro research \\nprojects and physics labs. My lab partner always reads my error messages, but if I were by myself, I would copy\\npaste stackexchange. But if that doesn't work, I'd just ask someone else. I admit that doesn't further my understanding\\nof python.\""
      ]
     },
     "execution_count": 8,
     "metadata": {},
     "output_type": "execute_result"
    }
   ],
   "source": [
    "'''At first I didn't realize there was a problem 5 since it wasn't in the homework file. \n",
    "So only now have I understood what I was spposed to do. Unfortunately I've forgotten what errors\n",
    "I ran into, since this homework was a couple weeks ago. However in general I tend to struggle with\n",
    "numpy arrays (I can never figure out how the .append works), so I look it up on StackExchange and change \n",
    "my code and re-run the file a couple times, and most of the times it will all work out. The reason I do\n",
    "that is because I never learned coding formally--I've only ever used it for astro research \n",
    "projects and physics labs. My lab partner always reads my error messages, but if I were by myself, I would copy\n",
    "paste stackexchange. But if that doesn't work, I'd just ask someone else. I admit that doesn't further my understanding\n",
    "of python.'''"
   ]
  },
  {
   "cell_type": "code",
   "execution_count": null,
   "id": "bccd9d95",
   "metadata": {},
   "outputs": [],
   "source": [
    "I "
   ]
  }
 ],
 "metadata": {
  "kernelspec": {
   "display_name": "Python 3 (ipykernel)",
   "language": "python",
   "name": "python3"
  },
  "language_info": {
   "codemirror_mode": {
    "name": "ipython",
    "version": 3
   },
   "file_extension": ".py",
   "mimetype": "text/x-python",
   "name": "python",
   "nbconvert_exporter": "python",
   "pygments_lexer": "ipython3",
   "version": "3.11.5"
  }
 },
 "nbformat": 4,
 "nbformat_minor": 5
}
