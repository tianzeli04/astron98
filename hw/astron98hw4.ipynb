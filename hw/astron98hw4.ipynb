{
 "cells": [
  {
   "cell_type": "code",
   "execution_count": 1,
   "id": "2dfa9a5b",
   "metadata": {},
   "outputs": [
    {
     "data": {
      "text/plain": [
       "'2.1 Part 1\\nCreate a variable (name it anything you want but make it descriptive!) that is\\nassigned to a list with the numbers 0 to 50. You should not have to write each\\nnumber manually'"
      ]
     },
     "execution_count": 1,
     "metadata": {},
     "output_type": "execute_result"
    }
   ],
   "source": [
    "'''2.1 Part 1\n",
    "Create a variable (name it anything you want but make it descriptive!) that is\n",
    "assigned to a list with the numbers 0 to 50. You should not have to write each\n",
    "number manually'''"
   ]
  },
  {
   "cell_type": "code",
   "execution_count": 2,
   "id": "eb8a79cc",
   "metadata": {},
   "outputs": [
    {
     "name": "stdout",
     "output_type": "stream",
     "text": [
      "[0, 1, 2, 3, 4, 5, 6, 7, 8, 9, 10, 11, 12, 13, 14, 15, 16, 17, 18, 19, 20, 21, 22, 23, 24, 25, 26, 27, 28, 29, 30, 31, 32, 33, 34, 35, 36, 37, 38, 39, 40, 41, 42, 43, 44, 45, 46, 47, 48, 49, 50]\n"
     ]
    }
   ],
   "source": [
    "l=[]\n",
    "for i in range (0, 51):\n",
    "    l.append(i)\n",
    "print(l)"
   ]
  },
  {
   "cell_type": "code",
   "execution_count": null,
   "id": "83b7fc93",
   "metadata": {},
   "outputs": [],
   "source": [
    "'''Create a function that takes in a list and squares each element in the list.\n",
    ">>> l i s = [ 2 , 3 , 4 ]\n",
    ">>> s q u a r e ( l i s )\n",
    "[ 4 , 9 , 1 6 ]'''"
   ]
  },
  {
   "cell_type": "code",
   "execution_count": 6,
   "id": "bcc75878",
   "metadata": {},
   "outputs": [
    {
     "data": {
      "text/plain": [
       "[4, 9, 16]"
      ]
     },
     "execution_count": 6,
     "metadata": {},
     "output_type": "execute_result"
    }
   ],
   "source": [
    "def sq(l=[]):\n",
    "    for i in range(0, len(l)):\n",
    "        l[i]=l[i]**2\n",
    "    return l\n",
    "sq([2, 3, 4])"
   ]
  },
  {
   "cell_type": "code",
   "execution_count": null,
   "id": "63ca3fbf",
   "metadata": {},
   "outputs": [],
   "source": [
    "'''You are given two lists: listA and listB. listA contains the integers 1 through\n",
    "10 while listB contains the integers 20 through 30. Return a single, new list\n",
    "containing only the odd integers of both lists in sorted order.\n",
    "Expected output : [ 1 , 3 , 5 , 7 , 9 , 2 1 , 2 3 , 2 5 , 2 7 , 2 9 ]\n",
    "3 2D Lists\n",
    "'''"
   ]
  },
  {
   "cell_type": "code",
   "execution_count": 18,
   "id": "913d4329",
   "metadata": {},
   "outputs": [
    {
     "ename": "IndexError",
     "evalue": "list index out of range",
     "output_type": "error",
     "traceback": [
      "\u001b[1;31m---------------------------------------------------------------------------\u001b[0m",
      "\u001b[1;31mIndexError\u001b[0m                                Traceback (most recent call last)",
      "Cell \u001b[1;32mIn[18], line 13\u001b[0m\n\u001b[0;32m     11\u001b[0m             lC\u001b[38;5;241m.\u001b[39mremove(lC[i])\n\u001b[0;32m     12\u001b[0m     \u001b[38;5;28;01mreturn\u001b[39;00m lC\n\u001b[1;32m---> 13\u001b[0m func(listA, listB)\n",
      "Cell \u001b[1;32mIn[18], line 10\u001b[0m, in \u001b[0;36mfunc\u001b[1;34m(lA, lB)\u001b[0m\n\u001b[0;32m      8\u001b[0m lC\u001b[38;5;241m=\u001b[39mlA\u001b[38;5;241m+\u001b[39mlB\n\u001b[0;32m      9\u001b[0m \u001b[38;5;28;01mfor\u001b[39;00m i \u001b[38;5;129;01min\u001b[39;00m \u001b[38;5;28mrange\u001b[39m(\u001b[38;5;241m0\u001b[39m, \u001b[38;5;28mlen\u001b[39m(lC)):\n\u001b[1;32m---> 10\u001b[0m     \u001b[38;5;28;01mif\u001b[39;00m lC[i]\u001b[38;5;241m%\u001b[39m\u001b[38;5;241m2\u001b[39m\u001b[38;5;241m==\u001b[39m\u001b[38;5;241m0\u001b[39m:\n\u001b[0;32m     11\u001b[0m         lC\u001b[38;5;241m.\u001b[39mremove(lC[i])\n\u001b[0;32m     12\u001b[0m \u001b[38;5;28;01mreturn\u001b[39;00m lC\n",
      "\u001b[1;31mIndexError\u001b[0m: list index out of range"
     ]
    }
   ],
   "source": [
    "listA=[]\n",
    "listB=[]\n",
    "for i in range (1, 11):\n",
    "    listA.append(i)\n",
    "for i in range (20, 31):\n",
    "    listB.append(i)\n",
    "def func(lA=[], lB=[]):\n",
    "    lC=lA+lB\n",
    "    for i in range(0, len(lC)):\n",
    "        if lC[i]%2==0:\n",
    "            lC.remove(lC[i])\n",
    "    return lC\n",
    "func(listA, listB)"
   ]
  },
  {
   "cell_type": "code",
   "execution_count": null,
   "id": "fec56889",
   "metadata": {},
   "outputs": [],
   "source": [
    "'''3.1 Part 1\n",
    "Using nested for loops, create and print a 5x5 2D list with the numbers 1 to 25.\n",
    "1\n",
    "Expected output : [ [ 1 , 2 , 3 , 4 , 5 ] ,\n",
    "[ 6 , 7 , 8 , 9 , 1 0 ] ,\n",
    "[ 1 1 , 1 2 , 1 3 , 1 4 , 1 5 ] ,\n",
    "[ 1 6 , 1 7 , 1 8 , 1 9 , 2 0 ] ,\n",
    "[ 2 1 , 2 2 , 2 3 , 2 4 , 2 5 ] ]\n",
    "'''\n",
    "\n",
    "for i in range"
   ]
  },
  {
   "cell_type": "code",
   "execution_count": null,
   "id": "f50cca0a",
   "metadata": {},
   "outputs": [],
   "source": [
    "'''3.2 Part 2\n",
    "Now with your completed 2D list, replace all multiples of 3 with ’ ?’ character\n",
    "and print the resulting list.\n",
    "Expected output : [ [ 1 , 2 , ? , 4 , 5 ] ,\n",
    "[ ? , 7 , 8 , ? , 1 0 ] ,\n",
    "[ 1 1 , ? , 1 3 , 1 4 , ? ] ,\n",
    "[ 1 6 , 1 7 , ? , 1 9 , 2 0 ] ,\n",
    "[ ? , 2 2 , 2 3 , ? , 2 5 ] ]\n",
    "'''"
   ]
  },
  {
   "cell_type": "code",
   "execution_count": null,
   "id": "b72a9789",
   "metadata": {},
   "outputs": [],
   "source": [
    "'''4 More list practice\n",
    "Write a function that takes in a list and returns a copy of that list with duplicate\n",
    "values removed.\n",
    ">>> l i s = [ 1 , 1 , 2 , 3 , 4 , 4 ]\n",
    ">>> r e m o v e D u p l i c a t e s ( l i s )\n",
    "[ 1 , 2 , 3 , 4 ]'''"
   ]
  }
 ],
 "metadata": {
  "kernelspec": {
   "display_name": "Python 3 (ipykernel)",
   "language": "python",
   "name": "python3"
  },
  "language_info": {
   "codemirror_mode": {
    "name": "ipython",
    "version": 3
   },
   "file_extension": ".py",
   "mimetype": "text/x-python",
   "name": "python",
   "nbconvert_exporter": "python",
   "pygments_lexer": "ipython3",
   "version": "3.11.5"
  }
 },
 "nbformat": 4,
 "nbformat_minor": 5
}
