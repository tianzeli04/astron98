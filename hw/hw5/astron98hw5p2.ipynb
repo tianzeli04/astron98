{
 "cells": [
  {
   "cell_type": "code",
   "execution_count": 2,
   "id": "1563e855",
   "metadata": {},
   "outputs": [
    {
     "data": {
      "text/plain": [
       "'2 Checkers\\nCreate an 8x8 array with a checkerboard pattern of zeros and ones using a\\nslicing + striding approach.\\n>>> c h e c k e r b o a r d ( )\\na r r a y ( [ [ 1 , 0 , 1 , 0 , 1 , 0 , 1 , 0 ] ,\\n[ 0 , 1 , 0 , 1 , 0 , 1 , 0 , 1 ] ,\\n[ 1 , 0 , 1 , 0 , 1 , 0 , 1 , 0 ] ,\\n[ 0 , 1 , 0 , 1 , 0 , 1 , 0 , 1 ] ,\\n[ 1 , 0 , 1 , 0 , 1 , 0 , 1 , 0 ] ,\\n[ 0 , 1 , 0 , 1 , 0 , 1 , 0 , 1 ] ,\\n[ 1 , 0 , 1 , 0 , 1 , 0 , 1 , 0 ] ,\\n[ 0 , 1 , 0 , 1 , 0 , 1 , 0 , 1 ] ])'"
      ]
     },
     "execution_count": 2,
     "metadata": {},
     "output_type": "execute_result"
    }
   ],
   "source": [
    "'''2 Checkers\n",
    "Create an 8x8 array with a checkerboard pattern of zeros and ones using a\n",
    "slicing + striding approach.\n",
    ">>> c h e c k e r b o a r d ( )\n",
    "a r r a y ( [ [ 1 , 0 , 1 , 0 , 1 , 0 , 1 , 0 ] ,\n",
    "[ 0 , 1 , 0 , 1 , 0 , 1 , 0 , 1 ] ,\n",
    "[ 1 , 0 , 1 , 0 , 1 , 0 , 1 , 0 ] ,\n",
    "[ 0 , 1 , 0 , 1 , 0 , 1 , 0 , 1 ] ,\n",
    "[ 1 , 0 , 1 , 0 , 1 , 0 , 1 , 0 ] ,\n",
    "[ 0 , 1 , 0 , 1 , 0 , 1 , 0 , 1 ] ,\n",
    "[ 1 , 0 , 1 , 0 , 1 , 0 , 1 , 0 ] ,\n",
    "[ 0 , 1 , 0 , 1 , 0 , 1 , 0 , 1 ] ])'''"
   ]
  },
  {
   "cell_type": "code",
   "execution_count": 3,
   "id": "6c182ba5",
   "metadata": {},
   "outputs": [],
   "source": [
    "import numpy as np"
   ]
  },
  {
   "cell_type": "code",
   "execution_count": 5,
   "id": "2ff5b401",
   "metadata": {},
   "outputs": [
    {
     "data": {
      "text/plain": [
       "array([[0, 1, 0, 1, 0, 1, 0, 1],\n",
       "       [1, 0, 1, 0, 1, 0, 1, 0],\n",
       "       [0, 1, 0, 1, 0, 1, 0, 1],\n",
       "       [1, 0, 1, 0, 1, 0, 1, 0],\n",
       "       [0, 1, 0, 1, 0, 1, 0, 1],\n",
       "       [1, 0, 1, 0, 1, 0, 1, 0],\n",
       "       [0, 1, 0, 1, 0, 1, 0, 1],\n",
       "       [1, 0, 1, 0, 1, 0, 1, 0]])"
      ]
     },
     "execution_count": 5,
     "metadata": {},
     "output_type": "execute_result"
    }
   ],
   "source": [
    "def checkerboard():\n",
    "    arr = np.empty([8, 8], dtype=int)\n",
    "    for i in range(8):\n",
    "        for j in range(8):\n",
    "            if (i+j)%2==0:\n",
    "                arr[i][j]=0\n",
    "            else:\n",
    "                arr[i][j]=1\n",
    "    return arr\n",
    "checkerboard()"
   ]
  },
  {
   "cell_type": "code",
   "execution_count": null,
   "id": "305efc2b",
   "metadata": {},
   "outputs": [],
   "source": []
  }
 ],
 "metadata": {
  "kernelspec": {
   "display_name": "Python 3 (ipykernel)",
   "language": "python",
   "name": "python3"
  },
  "language_info": {
   "codemirror_mode": {
    "name": "ipython",
    "version": 3
   },
   "file_extension": ".py",
   "mimetype": "text/x-python",
   "name": "python",
   "nbconvert_exporter": "python",
   "pygments_lexer": "ipython3",
   "version": "3.11.5"
  }
 },
 "nbformat": 4,
 "nbformat_minor": 5
}
