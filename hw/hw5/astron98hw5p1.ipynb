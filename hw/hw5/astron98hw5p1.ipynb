{
 "cells": [
  {
   "cell_type": "code",
   "execution_count": 1,
   "id": "689adbd1",
   "metadata": {},
   "outputs": [
    {
     "data": {
      "text/plain": [
       "'1 Hey Twin\\nGiven an array, find the rows where all the values are equal.\\n>>> a r r = np . a r r a y ( [ [ 1 , 1 , 1 ] , [ 1 , 2 , 3 ] , [ 2 , 2 , 2 ] ] )\\n>>> f i n d E q u a l ( a r r )\\na r r a y ( [ [ 1 , 1 , 1 ] ,\\n[ 2 , 2 , 2 ] ] )'"
      ]
     },
     "execution_count": 1,
     "metadata": {},
     "output_type": "execute_result"
    }
   ],
   "source": [
    "'''1 Hey Twin\n",
    "Given an array, find the rows where all the values are equal.\n",
    ">>> a r r = np . a r r a y ( [ [ 1 , 1 , 1 ] , [ 1 , 2 , 3 ] , [ 2 , 2 , 2 ] ] )\n",
    ">>> f i n d E q u a l ( a r r )\n",
    "a r r a y ( [ [ 1 , 1 , 1 ] ,\n",
    "[ 2 , 2 , 2 ] ] )'''"
   ]
  },
  {
   "cell_type": "code",
   "execution_count": 2,
   "id": "3aca2c05",
   "metadata": {},
   "outputs": [],
   "source": [
    "import numpy as np"
   ]
  },
  {
   "cell_type": "code",
   "execution_count": 8,
   "id": "fad15ce7",
   "metadata": {},
   "outputs": [
    {
     "name": "stdout",
     "output_type": "stream",
     "text": [
      "[[1 1 1]\n",
      " [1 2 3]\n",
      " [2 2 2]]\n",
      "[[1 1 1]\n",
      " [2 2 2]]\n"
     ]
    }
   ],
   "source": [
    "def findEqual(a):\n",
    "    b = np.array([],dtype=int)\n",
    "    for i in range(a.shape[0]):\n",
    "        if all(x == a[i][0] for x in a[i]):\n",
    "            b = np.append(b, a[i])\n",
    "    return b.reshape(-1,a.shape[1])\n",
    "\n",
    "arr = np.array([[1,1,1],[1,2,3],[2,2,2]])\n",
    "print(arr)\n",
    "print(findEqual(arr))"
   ]
  },
  {
   "cell_type": "code",
   "execution_count": null,
   "id": "76da57fe",
   "metadata": {},
   "outputs": [],
   "source": []
  }
 ],
 "metadata": {
  "kernelspec": {
   "display_name": "Python 3 (ipykernel)",
   "language": "python",
   "name": "python3"
  },
  "language_info": {
   "codemirror_mode": {
    "name": "ipython",
    "version": 3
   },
   "file_extension": ".py",
   "mimetype": "text/x-python",
   "name": "python",
   "nbconvert_exporter": "python",
   "pygments_lexer": "ipython3",
   "version": "3.11.5"
  }
 },
 "nbformat": 4,
 "nbformat_minor": 5
}
