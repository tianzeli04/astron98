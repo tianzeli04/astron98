{
 "cells": [
  {
   "cell_type": "code",
   "execution_count": 2,
   "id": "b51edfa2",
   "metadata": {},
   "outputs": [
    {
     "data": {
      "text/plain": [
       "'4 Everything is in order\\nGiven a multidimensional matrix, sort the matrix along the columns.\\n>>> np . random . s e e d ( 1 2 3 4 5 )\\n>>> a = np . random . r a n d i n t ( 1 , 5 0 , ( 4 , 5 ) )\\n>>> a\\na r r a y ( [ [ 3 5 , 3 8 , 3 0 , 2 , 3 7 ] ,\\n[ 4 2 , 3 8 , 3 5 , 3 0 , 2 ] ,\\n[ 1 5 , 4 2 , 2 8 , 1 7 , 1 0 ] ,\\n[ 1 2 , 1 4 , 1 1 , 1 8 , 1 9 ] ] )\\n>>> s o r t i n g ( a )\\na r r a y ( [ [ 1 2 , 1 4 , 1 1 , 2 , 2 ] ,\\n[ 1 5 , 3 8 , 2 8 , 1 7 , 1 0 ] ,\\n[ 3 5 , 3 8 , 3 0 , 1 8 , 1 9 ] ,\\n[ 4 2 , 4 2 , 3 5 , 3 0 , 3 7 ] ] '"
      ]
     },
     "execution_count": 2,
     "metadata": {},
     "output_type": "execute_result"
    }
   ],
   "source": [
    "'''4 Everything is in order\n",
    "Given a multidimensional matrix, sort the matrix along the columns.\n",
    ">>> np . random . s e e d ( 1 2 3 4 5 )\n",
    ">>> a = np . random . r a n d i n t ( 1 , 5 0 , ( 4 , 5 ) )\n",
    ">>> a\n",
    "a r r a y ( [ [ 3 5 , 3 8 , 3 0 , 2 , 3 7 ] ,\n",
    "[ 4 2 , 3 8 , 3 5 , 3 0 , 2 ] ,\n",
    "[ 1 5 , 4 2 , 2 8 , 1 7 , 1 0 ] ,\n",
    "[ 1 2 , 1 4 , 1 1 , 1 8 , 1 9 ] ] )\n",
    ">>> s o r t i n g ( a )\n",
    "a r r a y ( [ [ 1 2 , 1 4 , 1 1 , 2 , 2 ] ,\n",
    "[ 1 5 , 3 8 , 2 8 , 1 7 , 1 0 ] ,\n",
    "[ 3 5 , 3 8 , 3 0 , 1 8 , 1 9 ] ,\n",
    "[ 4 2 , 4 2 , 3 5 , 3 0 , 3 7 ] ] '''"
   ]
  },
  {
   "cell_type": "code",
   "execution_count": 3,
   "id": "40a145f3",
   "metadata": {},
   "outputs": [],
   "source": [
    "import numpy as np"
   ]
  },
  {
   "cell_type": "markdown",
   "id": "5bfb3fc5",
   "metadata": {},
   "source": [
    "def sorting(arr=np.array([[]])):\n",
    "    arr=np.sort(arr)\n",
    "    return arr\n",
    "sorting(a)"
   ]
  },
  {
   "cell_type": "code",
   "execution_count": 4,
   "id": "7f766c50",
   "metadata": {},
   "outputs": [
    {
     "data": {
      "text/plain": [
       "array([[35, 38, 30,  2, 37],\n",
       "       [42, 38, 35, 30,  2],\n",
       "       [15, 42, 28, 17, 10],\n",
       "       [12, 14, 11, 18, 19]])"
      ]
     },
     "execution_count": 4,
     "metadata": {},
     "output_type": "execute_result"
    }
   ],
   "source": [
    "np.random.seed(12345)\n",
    "a=np.random.randint(1, 50, (4,5))\n",
    "a"
   ]
  },
  {
   "cell_type": "code",
   "execution_count": 5,
   "id": "7a641b48",
   "metadata": {},
   "outputs": [
    {
     "ename": "IndentationError",
     "evalue": "expected an indented block after 'for' statement on line 2 (3768285582.py, line 3)",
     "output_type": "error",
     "traceback": [
      "\u001b[1;36m  Cell \u001b[1;32mIn[5], line 3\u001b[1;36m\u001b[0m\n\u001b[1;33m    print(a)\u001b[0m\n\u001b[1;37m    ^\u001b[0m\n\u001b[1;31mIndentationError\u001b[0m\u001b[1;31m:\u001b[0m expected an indented block after 'for' statement on line 2\n"
     ]
    }
   ],
   "source": [
    "def sorting(a=np.array([])):\n",
    "    for i in range(0, len(a[0])):\n",
    "    print(a)\n",
    "    return a\n",
    "sorting(a)"
   ]
  },
  {
   "cell_type": "code",
   "execution_count": 11,
   "id": "c30b47da",
   "metadata": {},
   "outputs": [
    {
     "name": "stdout",
     "output_type": "stream",
     "text": [
      "[[35 38 30  2 37]\n",
      " [42 38 35 30  2]\n",
      " [15 42 28 17 10]\n",
      " [12 14 11 18 19]]\n"
     ]
    },
    {
     "data": {
      "text/plain": [
       "array([[12, 14, 11,  2,  2],\n",
       "       [15, 38, 28, 17, 10],\n",
       "       [35, 38, 30, 18, 19],\n",
       "       [42, 42, 35, 30, 37]])"
      ]
     },
     "execution_count": 11,
     "metadata": {},
     "output_type": "execute_result"
    }
   ],
   "source": [
    "def sortArray(a):\n",
    "    b = np.sort(a, axis=0)\n",
    "    return b\n",
    "print(a)\n",
    "sortArray(a)"
   ]
  },
  {
   "cell_type": "code",
   "execution_count": null,
   "id": "573c7c7e",
   "metadata": {},
   "outputs": [],
   "source": []
  }
 ],
 "metadata": {
  "kernelspec": {
   "display_name": "Python 3 (ipykernel)",
   "language": "python",
   "name": "python3"
  },
  "language_info": {
   "codemirror_mode": {
    "name": "ipython",
    "version": 3
   },
   "file_extension": ".py",
   "mimetype": "text/x-python",
   "name": "python",
   "nbconvert_exporter": "python",
   "pygments_lexer": "ipython3",
   "version": "3.11.5"
  }
 },
 "nbformat": 4,
 "nbformat_minor": 5
}
