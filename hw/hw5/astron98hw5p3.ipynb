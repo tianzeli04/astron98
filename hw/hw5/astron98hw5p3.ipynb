{
 "cells": [
  {
   "cell_type": "code",
   "execution_count": 2,
   "id": "14472aaf",
   "metadata": {},
   "outputs": [
    {
     "data": {
      "text/plain": [
       "'3 I need some space\\nGiven an array of strings, return an array where each letter in each string is\\nseparated by a space.\\n>>> myarr = np . a r r a y ( [ ’ python ’ , ’ i s ’ , ’ c o o l ! ’ ] )\\n>>> spaceBetween ( myarr )\\na r r a y ( [ ’ p y t h o n ’ , ’ i s ’ , ’ c o o l ! ’ ] , dtype=’<U11 ’ )'"
      ]
     },
     "execution_count": 2,
     "metadata": {},
     "output_type": "execute_result"
    }
   ],
   "source": [
    "'''3 I need some space\n",
    "Given an array of strings, return an array where each letter in each string is\n",
    "separated by a space.\n",
    ">>> myarr = np . a r r a y ( [ ’ python ’ , ’ i s ’ , ’ c o o l ! ’ ] )\n",
    ">>> spaceBetween ( myarr )\n",
    "a r r a y ( [ ’ p y t h o n ’ , ’ i s ’ , ’ c o o l ! ’ ] , dtype=’<U11 ’ )'''"
   ]
  },
  {
   "cell_type": "code",
   "execution_count": 3,
   "id": "335b8f88",
   "metadata": {},
   "outputs": [],
   "source": [
    "import numpy as np"
   ]
  },
  {
   "cell_type": "code",
   "execution_count": 4,
   "id": "70af9d59",
   "metadata": {},
   "outputs": [
    {
     "name": "stdout",
     "output_type": "stream",
     "text": [
      "B I N G O\n"
     ]
    }
   ],
   "source": [
    "'''Source: https://stackoverflow.com/questions/18221436/efficient-way-to-add-spaces-between-characters-in-a-string'''\n",
    "s = \"BINGO\"\n",
    "print(\" \".join(s))"
   ]
  },
  {
   "cell_type": "code",
   "execution_count": 10,
   "id": "f8f8008a",
   "metadata": {},
   "outputs": [],
   "source": [
    "def spaceBetween(a=np.array([])):\n",
    "    e=np.array([])\n",
    "    for i in a:\n",
    "        i=\" \".join(i)\n",
    "        print(i)\n",
    "        e=np.append(e, i)\n",
    "    return e\n"
   ]
  },
  {
   "cell_type": "code",
   "execution_count": 11,
   "id": "cd209b58",
   "metadata": {},
   "outputs": [
    {
     "name": "stdout",
     "output_type": "stream",
     "text": [
      "p y t h o n\n",
      "i s\n",
      "c o o l !\n"
     ]
    },
    {
     "data": {
      "text/plain": [
       "array(['p y t h o n', 'i s', 'c o o l !'], dtype='<U32')"
      ]
     },
     "execution_count": 11,
     "metadata": {},
     "output_type": "execute_result"
    }
   ],
   "source": [
    "myarr = np.array ( ['python', 'is', 'cool!'] )\n",
    "spaceBetween(myarr)"
   ]
  },
  {
   "cell_type": "code",
   "execution_count": null,
   "id": "722a550b",
   "metadata": {},
   "outputs": [],
   "source": []
  },
  {
   "cell_type": "code",
   "execution_count": null,
   "id": "d5c117bb",
   "metadata": {},
   "outputs": [],
   "source": []
  }
 ],
 "metadata": {
  "kernelspec": {
   "display_name": "Python 3 (ipykernel)",
   "language": "python",
   "name": "python3"
  },
  "language_info": {
   "codemirror_mode": {
    "name": "ipython",
    "version": 3
   },
   "file_extension": ".py",
   "mimetype": "text/x-python",
   "name": "python",
   "nbconvert_exporter": "python",
   "pygments_lexer": "ipython3",
   "version": "3.11.5"
  }
 },
 "nbformat": 4,
 "nbformat_minor": 5
}
