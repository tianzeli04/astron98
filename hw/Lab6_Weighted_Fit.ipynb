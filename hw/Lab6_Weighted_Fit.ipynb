{
 "cells": [
  {
   "cell_type": "markdown",
   "id": "3d9088b2-8d28-448a-a9b4-3fb4144f878f",
   "metadata": {},
   "source": [
    "# Lab 6 - Weighted Linear Fit\n",
    "## *based on the lab 6 excel file\n",
    "Zhirong Zhang (zhirongz@berkeley.edu)"
   ]
  },
  {
   "cell_type": "code",
   "execution_count": 85,
   "id": "5e7a00a5-ef5e-4708-9eb1-5155e6996ed1",
   "metadata": {},
   "outputs": [],
   "source": [
    "import numpy as np\n",
    "import scipy.optimize as opt\n",
    "import matplotlib.pyplot as plt"
   ]
  },
  {
   "cell_type": "markdown",
   "id": "1fd00ce8-a85f-43e4-9eac-1ff9831086bf",
   "metadata": {},
   "source": [
    "## Preparation of Data\n",
    "In this part, we first read in the data. Then we calculate the means and standard errors."
   ]
  },
  {
   "cell_type": "code",
   "execution_count": 86,
   "id": "0cc5e863-8f1a-422d-aa54-e67dd1f23641",
   "metadata": {},
   "outputs": [],
   "source": [
    "#Read in data from the csv file\n",
    "data_table = np.loadtxt('lab6_test_dataset_csv.csv', delimiter=',', skiprows=1)\n",
    "\n",
    "#allocate a numpy matrix for storing periods\n",
    "time_table = np.zeros((9,7))\n",
    "\n",
    "#Sort the data into the time_table\n",
    "for n in list(range(1,10)):\n",
    "    time_table[n-1] = data_table[:,n]"
   ]
  },
  {
   "cell_type": "code",
   "execution_count": 87,
   "id": "0f5186ef-87af-49a2-894b-8f655395d52e",
   "metadata": {},
   "outputs": [
    {
     "name": "stdout",
     "output_type": "stream",
     "text": [
      "mean :\n",
      "[ 4.77285714  6.44285714  7.50142857  8.47714286  9.57142857 10.39428571\n",
      " 11.38142857 11.99142857 12.62428571]\n",
      "standard deviation :\n",
      "[0.03817254 0.06129554 0.06094494 0.11513967 0.05639993 0.07678045\n",
      " 0.09546877 0.04488079 0.08676734]\n",
      "standard error\n",
      "[0.01442786 0.02316754 0.02303502 0.0435187  0.02131717 0.02902028\n",
      " 0.0360838  0.01696335 0.03279497]\n"
     ]
    }
   ],
   "source": [
    "#mean\n",
    "#axis = 1 meaning we are average each row\n",
    "mean = np.mean(time_table, axis=1)\n",
    "print('mean :')\n",
    "print(mean)\n",
    "\n",
    "#standard deviation\n",
    "std = np.std(time_table, axis=1, ddof=1)\n",
    "print('standard deviation :')\n",
    "print(std)\n",
    "\n",
    "#standard error\n",
    "stderr = std/np.sqrt(7)\n",
    "print('standard error')\n",
    "print(stderr)"
   ]
  },
  {
   "cell_type": "markdown",
   "id": "9aa5bc94-9d04-4303-abe1-8bcd8a507c91",
   "metadata": {},
   "source": [
    "## Continue preparing data ...\n",
    "Now we compute the time for each rotational period, and propagate the errors."
   ]
  },
  {
   "cell_type": "code",
   "execution_count": 88,
   "id": "55bede5a-4c37-4ad4-abe0-0a4f05c0081f",
   "metadata": {},
   "outputs": [],
   "source": [
    "T = mean/10\n",
    "alpha_T = stderr/10\n",
    "T_square = np.square(T)\n",
    "alpha_T_square = 2*np.multiply(T,alpha_T)"
   ]
  },
  {
   "cell_type": "markdown",
   "id": "cc9a7de0-bd87-4cc0-a454-04ee118392fa",
   "metadata": {},
   "source": [
    "Time to move on to moment of inertia."
   ]
  },
  {
   "cell_type": "code",
   "execution_count": 89,
   "id": "a3c23df8-6485-41c2-adea-5e3d5253ada9",
   "metadata": {},
   "outputs": [],
   "source": [
    "#Prepare some constant.\n",
    "#LOAD YOUR OWN CONSTANTS!\n",
    "\n",
    "#Moment of inertia of the holder\n",
    "I_HOLDER = 100\n",
    "#Moment of inertia of a single disk\n",
    "I_DISK = 286.8\n",
    "\n",
    "#construct moment of inertia error\n",
    "n_array = np.arange(1,10)\n",
    "I_array = I_HOLDER+I_DISK*n_array"
   ]
  },
  {
   "cell_type": "markdown",
   "id": "66612480-424e-445d-b1cc-bf198233f2cf",
   "metadata": {},
   "source": [
    "Error propagation. Fun stuff!"
   ]
  },
  {
   "cell_type": "code",
   "execution_count": 90,
   "id": "fbf5880e-9e3f-446e-ae54-e395cc8c2f6b",
   "metadata": {},
   "outputs": [],
   "source": [
    "alpha_holder = 3.2\n",
    "alpha_disk = 6.6\n",
    "\n",
    "alpha_I = np.sqrt(np.square(alpha_holder)+np.square(n_array)*np.square(alpha_disk))"
   ]
  },
  {
   "cell_type": "markdown",
   "id": "e2f65688-3206-4af9-9c4c-7ccc62e6b730",
   "metadata": {},
   "source": [
    "## Non-weighted Fit"
   ]
  },
  {
   "cell_type": "code",
   "execution_count": 91,
   "id": "4170536a-4386-4921-b241-972b738ddb65",
   "metadata": {},
   "outputs": [],
   "source": [
    "def model_lin(x, m, c):\n",
    "    return m*x"
   ]
  },
  {
   "cell_type": "code",
   "execution_count": 92,
   "id": "bc8f4a73-9e99-438e-a56d-ef4ab0bdb601",
   "metadata": {},
   "outputs": [],
   "source": [
    "lin_opt, lin_cov = opt.curve_fit(model_lin, T_square, I_array)"
   ]
  },
  {
   "cell_type": "markdown",
   "id": "43507135-727e-4310-b966-4e894b34f946",
   "metadata": {},
   "source": [
    "## Weighted-Fit"
   ]
  },
  {
   "cell_type": "code",
   "execution_count": 93,
   "id": "a379d4dc-8145-404f-872d-370c5237c4cc",
   "metadata": {},
   "outputs": [],
   "source": [
    "alpha_I0 = lin_opt[0]*alpha_T_square"
   ]
  },
  {
   "cell_type": "code",
   "execution_count": 94,
   "id": "d6bbe05b-29bd-4c18-ac66-7e252a8fdcb7",
   "metadata": {},
   "outputs": [],
   "source": [
    "#The error of x is added to the error of y.\n",
    "alpha_I_eq = np.sqrt(np.square(alpha_I)+np.square(alpha_I0))"
   ]
  },
  {
   "cell_type": "code",
   "execution_count": 95,
   "id": "cac31939-bb42-43cc-acf8-adeef42ec165",
   "metadata": {},
   "outputs": [],
   "source": [
    "w = 1/np.square(alpha_I_eq)"
   ]
  },
  {
   "cell_type": "code",
   "execution_count": 97,
   "id": "e41e6342-ae0b-4432-8257-585a1f90094c",
   "metadata": {},
   "outputs": [],
   "source": [
    "wx = np.multiply(T_square,w)"
   ]
  },
  {
   "cell_type": "code",
   "execution_count": 99,
   "id": "416c9e4f-bc8b-4ea5-9ae5-d8d5c0392615",
   "metadata": {},
   "outputs": [
    {
     "data": {
      "text/plain": [
       "array([1.49101394, 1.33553211, 1.24057389, 1.04312137, 1.2265729 ,\n",
       "       1.17094009, 1.17018637, 1.21049717, 1.14558738])"
      ]
     },
     "execution_count": 99,
     "metadata": {},
     "output_type": "execute_result"
    }
   ],
   "source": [
    "wxy = np.multiply(wx,I_array)"
   ]
  },
  {
   "cell_type": "code",
   "execution_count": 100,
   "id": "9b98ecb1-0882-4ad5-9ebd-b4890a11f3df",
   "metadata": {},
   "outputs": [],
   "source": [
    "sqrt_w = np.sqrt(w)"
   ]
  },
  {
   "cell_type": "code",
   "execution_count": 102,
   "id": "9b307997-9a1b-483f-936a-039c4ec776db",
   "metadata": {},
   "outputs": [
    {
     "data": {
      "text/plain": [
       "array([0.00087812, 0.00082302, 0.00072687, 0.00060103, 0.00073252,\n",
       "       0.0006948 , 0.00071922, 0.00072696, 0.00068095])"
      ]
     },
     "execution_count": 102,
     "metadata": {},
     "output_type": "execute_result"
    }
   ],
   "source": [
    "x2 = np.square(T_square)\n",
    "x2w = np.multiply(x2,w)"
   ]
  },
  {
   "cell_type": "code",
   "execution_count": 104,
   "id": "6962fbb9-58ed-44c8-bdcf-bc48fcde664d",
   "metadata": {},
   "outputs": [
    {
     "data": {
      "text/plain": [
       "array([0.00385474, 0.00198268, 0.00129173, 0.00083637, 0.00079959,\n",
       "       0.00064309, 0.00055522, 0.00050555, 0.00042727])"
      ]
     },
     "execution_count": 104,
     "metadata": {},
     "output_type": "execute_result"
    }
   ],
   "source": [
    "xw = np.multiply(w, T_square)"
   ]
  },
  {
   "cell_type": "code",
   "execution_count": 105,
   "id": "ba90b837-b680-41dc-bf95-224ef08eeee9",
   "metadata": {},
   "outputs": [],
   "source": [
    "wy = np.multiply(w, I_array)"
   ]
  },
  {
   "cell_type": "code",
   "execution_count": 121,
   "id": "4c4af7ff-0c0e-4f64-b94a-19f7a9dff41c",
   "metadata": {},
   "outputs": [],
   "source": [
    "weighted_m = (np.sum(w)*np.sum(wxy)-np.sum(xw)*np.sum(wy))/(np.sum(w)*np.sum(x2w)-np.sum(xw)**2)"
   ]
  },
  {
   "cell_type": "code",
   "execution_count": 123,
   "id": "e9cce72a-b726-44e3-81d4-a081dbaf22e8",
   "metadata": {},
   "outputs": [
    {
     "name": "stdout",
     "output_type": "stream",
     "text": [
      "1668.6057191881198\n"
     ]
    }
   ],
   "source": [
    "print(weighted_m)"
   ]
  },
  {
   "cell_type": "code",
   "execution_count": null,
   "id": "20085cab-b982-4132-8c2d-45561490ff4a",
   "metadata": {},
   "outputs": [],
   "source": []
  }
 ],
 "metadata": {
  "kernelspec": {
   "display_name": "Python 3 (ipykernel)",
   "language": "python",
   "name": "python3"
  },
  "language_info": {
   "codemirror_mode": {
    "name": "ipython",
    "version": 3
   },
   "file_extension": ".py",
   "mimetype": "text/x-python",
   "name": "python",
   "nbconvert_exporter": "python",
   "pygments_lexer": "ipython3",
   "version": "3.9.12"
  }
 },
 "nbformat": 4,
 "nbformat_minor": 5
}
